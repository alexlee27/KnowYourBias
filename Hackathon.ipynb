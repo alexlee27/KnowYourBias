{
 "cells": [
  {
   "cell_type": "code",
   "execution_count": 12,
   "id": "fa360685",
   "metadata": {},
   "outputs": [],
   "source": [
    "import pandas as pd\n",
    "import numpy as np"
   ]
  },
  {
   "cell_type": "code",
   "execution_count": 13,
   "id": "ef3462ae",
   "metadata": {},
   "outputs": [],
   "source": [
    "df = pd.read_csv(\"balanced.csv\")"
   ]
  },
  {
   "cell_type": "code",
   "execution_count": 14,
   "id": "9eda8b6a",
   "metadata": {
    "scrolled": true
   },
   "outputs": [
    {
     "data": {
      "text/html": [
       "<div>\n",
       "<style scoped>\n",
       "    .dataframe tbody tr th:only-of-type {\n",
       "        vertical-align: middle;\n",
       "    }\n",
       "\n",
       "    .dataframe tbody tr th {\n",
       "        vertical-align: top;\n",
       "    }\n",
       "\n",
       "    .dataframe thead th {\n",
       "        text-align: right;\n",
       "    }\n",
       "</style>\n",
       "<table border=\"1\" class=\"dataframe\">\n",
       "  <thead>\n",
       "    <tr style=\"text-align: right;\">\n",
       "      <th></th>\n",
       "      <th>Unnamed: 0.2</th>\n",
       "      <th>Unnamed: 0.1</th>\n",
       "      <th>Unnamed: 0</th>\n",
       "      <th>id</th>\n",
       "      <th>title</th>\n",
       "      <th>publication</th>\n",
       "      <th>author</th>\n",
       "      <th>date</th>\n",
       "      <th>year</th>\n",
       "      <th>month</th>\n",
       "      <th>url</th>\n",
       "      <th>content</th>\n",
       "      <th>Bias</th>\n",
       "    </tr>\n",
       "  </thead>\n",
       "  <tbody>\n",
       "    <tr>\n",
       "      <th>0</th>\n",
       "      <td>0</td>\n",
       "      <td>38250</td>\n",
       "      <td>39519</td>\n",
       "      <td>58376</td>\n",
       "      <td>What if FDR had lived through his final term?</td>\n",
       "      <td>CNN</td>\n",
       "      <td>Brenna Williams</td>\n",
       "      <td>2016-10-07</td>\n",
       "      <td>2016.0</td>\n",
       "      <td>10.0</td>\n",
       "      <td>NaN</td>\n",
       "      <td>(CNN) President Franklin Roosevelt led the co...</td>\n",
       "      <td>left</td>\n",
       "    </tr>\n",
       "    <tr>\n",
       "      <th>1</th>\n",
       "      <td>1</td>\n",
       "      <td>23111</td>\n",
       "      <td>126573</td>\n",
       "      <td>189171</td>\n",
       "      <td>North Carolina students sue U.S. over stance o...</td>\n",
       "      <td>Reuters</td>\n",
       "      <td>Colleen Jenkins</td>\n",
       "      <td>2016-05-11</td>\n",
       "      <td>2016.0</td>\n",
       "      <td>5.0</td>\n",
       "      <td>http://www.reuters.com/article/us-north-caroli...</td>\n",
       "      <td>A group of North Carolina public school stude...</td>\n",
       "      <td>center</td>\n",
       "    </tr>\n",
       "    <tr>\n",
       "      <th>2</th>\n",
       "      <td>2</td>\n",
       "      <td>18691</td>\n",
       "      <td>122153</td>\n",
       "      <td>181491</td>\n",
       "      <td>Shares in Japan’s Takata suspended after repor...</td>\n",
       "      <td>Reuters</td>\n",
       "      <td>Naomi Tajitsu and Chang-Ran Kim</td>\n",
       "      <td>2017-04-27</td>\n",
       "      <td>2017.0</td>\n",
       "      <td>4.0</td>\n",
       "      <td>http://www.reuters.com/article/us-takata-restr...</td>\n",
       "      <td>Trading in Takata Corp shares was suspended o...</td>\n",
       "      <td>center</td>\n",
       "    </tr>\n",
       "    <tr>\n",
       "      <th>3</th>\n",
       "      <td>3</td>\n",
       "      <td>22205</td>\n",
       "      <td>75614</td>\n",
       "      <td>115677</td>\n",
       "      <td>The More Trump Wins, the Angrier They Get</td>\n",
       "      <td>National Review</td>\n",
       "      <td>Conrad Black</td>\n",
       "      <td>2017-03-07</td>\n",
       "      <td>2017.0</td>\n",
       "      <td>3.0</td>\n",
       "      <td>http://www.nationalreview.com/article/445549/d...</td>\n",
       "      <td>The frenzy of the Never Trump movement becomes...</td>\n",
       "      <td>center-left</td>\n",
       "    </tr>\n",
       "    <tr>\n",
       "      <th>4</th>\n",
       "      <td>4</td>\n",
       "      <td>9432</td>\n",
       "      <td>9432</td>\n",
       "      <td>28168</td>\n",
       "      <td>Mel Gibson-Vince Vaughn Cop Thriller ’Dragged ...</td>\n",
       "      <td>Breitbart</td>\n",
       "      <td>Daniel Nussbaum</td>\n",
       "      <td>2017-05-18</td>\n",
       "      <td>2017.0</td>\n",
       "      <td>5.0</td>\n",
       "      <td>NaN</td>\n",
       "      <td>Lionsgate has acquired the U. S. distribution ...</td>\n",
       "      <td>center-left</td>\n",
       "    </tr>\n",
       "  </tbody>\n",
       "</table>\n",
       "</div>"
      ],
      "text/plain": [
       "   Unnamed: 0.2  Unnamed: 0.1  Unnamed: 0      id  \\\n",
       "0             0         38250       39519   58376   \n",
       "1             1         23111      126573  189171   \n",
       "2             2         18691      122153  181491   \n",
       "3             3         22205       75614  115677   \n",
       "4             4          9432        9432   28168   \n",
       "\n",
       "                                               title      publication  \\\n",
       "0      What if FDR had lived through his final term?              CNN   \n",
       "1  North Carolina students sue U.S. over stance o...          Reuters   \n",
       "2  Shares in Japan’s Takata suspended after repor...          Reuters   \n",
       "3          The More Trump Wins, the Angrier They Get  National Review   \n",
       "4  Mel Gibson-Vince Vaughn Cop Thriller ’Dragged ...        Breitbart   \n",
       "\n",
       "                            author        date    year  month  \\\n",
       "0                  Brenna Williams  2016-10-07  2016.0   10.0   \n",
       "1                  Colleen Jenkins  2016-05-11  2016.0    5.0   \n",
       "2  Naomi Tajitsu and Chang-Ran Kim  2017-04-27  2017.0    4.0   \n",
       "3                     Conrad Black  2017-03-07  2017.0    3.0   \n",
       "4                  Daniel Nussbaum  2017-05-18  2017.0    5.0   \n",
       "\n",
       "                                                 url  \\\n",
       "0                                                NaN   \n",
       "1  http://www.reuters.com/article/us-north-caroli...   \n",
       "2  http://www.reuters.com/article/us-takata-restr...   \n",
       "3  http://www.nationalreview.com/article/445549/d...   \n",
       "4                                                NaN   \n",
       "\n",
       "                                             content         Bias  \n",
       "0   (CNN) President Franklin Roosevelt led the co...         left  \n",
       "1   A group of North Carolina public school stude...       center  \n",
       "2   Trading in Takata Corp shares was suspended o...       center  \n",
       "3  The frenzy of the Never Trump movement becomes...  center-left  \n",
       "4  Lionsgate has acquired the U. S. distribution ...  center-left  "
      ]
     },
     "execution_count": 14,
     "metadata": {},
     "output_type": "execute_result"
    }
   ],
   "source": [
    "df.head()"
   ]
  },
  {
   "cell_type": "code",
   "execution_count": 15,
   "id": "dd431646",
   "metadata": {},
   "outputs": [
    {
     "data": {
      "image/png": "[encoded data removed]",
      "text/plain": [
       "<Figure size 640x480 with 1 Axes>"
      ]
     },
     "metadata": {},
     "output_type": "display_data"
    }
   ],
   "source": [
    "import matplotlib.pyplot as plt\n",
    "\n",
    "# Count the occurrences of each value in the \"Bias\" column\n",
    "counts = df['Bias'].value_counts()\n",
    "\n",
    "# Create a bar chart of the results\n",
    "counts.plot(kind='bar')\n",
    "\n",
    "# Set the chart title and axis labels\n",
    "plt.title('Bias Frequencies')\n",
    "plt.xlabel('Bias')\n",
    "plt.ylabel('Frequency')\n",
    "\n",
    "# Display the chart\n",
    "plt.show()"
   ]
  },
  {
   "cell_type": "markdown",
   "id": "185ca72e",
   "metadata": {},
   "source": [
    "# Preprocessing\n"
   ]
  },
  {
   "cell_type": "code",
   "execution_count": 16,
   "id": "569dfbb8",
   "metadata": {},
   "outputs": [],
   "source": [
    "import re\n",
    "from sklearn.feature_extraction.text import CountVectorizer\n",
    "from sklearn.feature_extraction.text import TfidfTransformer\n",
    "import pandas as pd\n",
    "\n",
    "def preprocess(text):\n",
    "    # Remove numbers and punctuation\n",
    "    text = re.sub(r'\\d+', '', text)\n",
    "    text = re.sub(r'[^\\w\\s]', '', text)\n",
    "    \n",
    "    return text\n",
    "\n",
    "\n",
    "# Preprocess the 'text' column\n",
    "df['text_processed'] = df['content'].apply(preprocess)"
   ]
  },
  {
   "cell_type": "code",
   "execution_count": 17,
   "id": "4a63a2ec",
   "metadata": {},
   "outputs": [
    {
     "data": {
      "text/html": [
       "<div>\n",
       "<style scoped>\n",
       "    .dataframe tbody tr th:only-of-type {\n",
       "        vertical-align: middle;\n",
       "    }\n",
       "\n",
       "    .dataframe tbody tr th {\n",
       "        vertical-align: top;\n",
       "    }\n",
       "\n",
       "    .dataframe thead th {\n",
       "        text-align: right;\n",
       "    }\n",
       "</style>\n",
       "<table border=\"1\" class=\"dataframe\">\n",
       "  <thead>\n",
       "    <tr style=\"text-align: right;\">\n",
       "      <th></th>\n",
       "      <th>Unnamed: 0.2</th>\n",
       "      <th>Unnamed: 0.1</th>\n",
       "      <th>Unnamed: 0</th>\n",
       "      <th>id</th>\n",
       "      <th>title</th>\n",
       "      <th>publication</th>\n",
       "      <th>author</th>\n",
       "      <th>date</th>\n",
       "      <th>year</th>\n",
       "      <th>month</th>\n",
       "      <th>url</th>\n",
       "      <th>content</th>\n",
       "      <th>Bias</th>\n",
       "      <th>text_processed</th>\n",
       "    </tr>\n",
       "  </thead>\n",
       "  <tbody>\n",
       "    <tr>\n",
       "      <th>0</th>\n",
       "      <td>0</td>\n",
       "      <td>38250</td>\n",
       "      <td>39519</td>\n",
       "      <td>58376</td>\n",
       "      <td>What if FDR had lived through his final term?</td>\n",
       "      <td>CNN</td>\n",
       "      <td>Brenna Williams</td>\n",
       "      <td>2016-10-07</td>\n",
       "      <td>2016.0</td>\n",
       "      <td>10.0</td>\n",
       "      <td>NaN</td>\n",
       "      <td>(CNN) President Franklin Roosevelt led the co...</td>\n",
       "      <td>left</td>\n",
       "      <td>CNN President Franklin Roosevelt led the coun...</td>\n",
       "    </tr>\n",
       "    <tr>\n",
       "      <th>1</th>\n",
       "      <td>1</td>\n",
       "      <td>23111</td>\n",
       "      <td>126573</td>\n",
       "      <td>189171</td>\n",
       "      <td>North Carolina students sue U.S. over stance o...</td>\n",
       "      <td>Reuters</td>\n",
       "      <td>Colleen Jenkins</td>\n",
       "      <td>2016-05-11</td>\n",
       "      <td>2016.0</td>\n",
       "      <td>5.0</td>\n",
       "      <td>http://www.reuters.com/article/us-north-caroli...</td>\n",
       "      <td>A group of North Carolina public school stude...</td>\n",
       "      <td>center</td>\n",
       "      <td>A group of North Carolina public school stude...</td>\n",
       "    </tr>\n",
       "    <tr>\n",
       "      <th>2</th>\n",
       "      <td>2</td>\n",
       "      <td>18691</td>\n",
       "      <td>122153</td>\n",
       "      <td>181491</td>\n",
       "      <td>Shares in Japan’s Takata suspended after repor...</td>\n",
       "      <td>Reuters</td>\n",
       "      <td>Naomi Tajitsu and Chang-Ran Kim</td>\n",
       "      <td>2017-04-27</td>\n",
       "      <td>2017.0</td>\n",
       "      <td>4.0</td>\n",
       "      <td>http://www.reuters.com/article/us-takata-restr...</td>\n",
       "      <td>Trading in Takata Corp shares was suspended o...</td>\n",
       "      <td>center</td>\n",
       "      <td>Trading in Takata Corp shares was suspended o...</td>\n",
       "    </tr>\n",
       "    <tr>\n",
       "      <th>3</th>\n",
       "      <td>3</td>\n",
       "      <td>22205</td>\n",
       "      <td>75614</td>\n",
       "      <td>115677</td>\n",
       "      <td>The More Trump Wins, the Angrier They Get</td>\n",
       "      <td>National Review</td>\n",
       "      <td>Conrad Black</td>\n",
       "      <td>2017-03-07</td>\n",
       "      <td>2017.0</td>\n",
       "      <td>3.0</td>\n",
       "      <td>http://www.nationalreview.com/article/445549/d...</td>\n",
       "      <td>The frenzy of the Never Trump movement becomes...</td>\n",
       "      <td>center-left</td>\n",
       "      <td>The frenzy of the Never Trump movement becomes...</td>\n",
       "    </tr>\n",
       "    <tr>\n",
       "      <th>4</th>\n",
       "      <td>4</td>\n",
       "      <td>9432</td>\n",
       "      <td>9432</td>\n",
       "      <td>28168</td>\n",
       "      <td>Mel Gibson-Vince Vaughn Cop Thriller ’Dragged ...</td>\n",
       "      <td>Breitbart</td>\n",
       "      <td>Daniel Nussbaum</td>\n",
       "      <td>2017-05-18</td>\n",
       "      <td>2017.0</td>\n",
       "      <td>5.0</td>\n",
       "      <td>NaN</td>\n",
       "      <td>Lionsgate has acquired the U. S. distribution ...</td>\n",
       "      <td>center-left</td>\n",
       "      <td>Lionsgate has acquired the U S distribution ri...</td>\n",
       "    </tr>\n",
       "  </tbody>\n",
       "</table>\n",
       "</div>"
      ],
      "text/plain": [
       "   Unnamed: 0.2  Unnamed: 0.1  Unnamed: 0      id  \\\n",
       "0             0         38250       39519   58376   \n",
       "1             1         23111      126573  189171   \n",
       "2             2         18691      122153  181491   \n",
       "3             3         22205       75614  115677   \n",
       "4             4          9432        9432   28168   \n",
       "\n",
       "                                               title      publication  \\\n",
       "0      What if FDR had lived through his final term?              CNN   \n",
       "1  North Carolina students sue U.S. over stance o...          Reuters   \n",
       "2  Shares in Japan’s Takata suspended after repor...          Reuters   \n",
       "3          The More Trump Wins, the Angrier They Get  National Review   \n",
       "4  Mel Gibson-Vince Vaughn Cop Thriller ’Dragged ...        Breitbart   \n",
       "\n",
       "                            author        date    year  month  \\\n",
       "0                  Brenna Williams  2016-10-07  2016.0   10.0   \n",
       "1                  Colleen Jenkins  2016-05-11  2016.0    5.0   \n",
       "2  Naomi Tajitsu and Chang-Ran Kim  2017-04-27  2017.0    4.0   \n",
       "3                     Conrad Black  2017-03-07  2017.0    3.0   \n",
       "4                  Daniel Nussbaum  2017-05-18  2017.0    5.0   \n",
       "\n",
       "                                                 url  \\\n",
       "0                                                NaN   \n",
       "1  http://www.reuters.com/article/us-north-caroli...   \n",
       "2  http://www.reuters.com/article/us-takata-restr...   \n",
       "3  http://www.nationalreview.com/article/445549/d...   \n",
       "4                                                NaN   \n",
       "\n",
       "                                             content         Bias  \\\n",
       "0   (CNN) President Franklin Roosevelt led the co...         left   \n",
       "1   A group of North Carolina public school stude...       center   \n",
       "2   Trading in Takata Corp shares was suspended o...       center   \n",
       "3  The frenzy of the Never Trump movement becomes...  center-left   \n",
       "4  Lionsgate has acquired the U. S. distribution ...  center-left   \n",
       "\n",
       "                                      text_processed  \n",
       "0   CNN President Franklin Roosevelt led the coun...  \n",
       "1   A group of North Carolina public school stude...  \n",
       "2   Trading in Takata Corp shares was suspended o...  \n",
       "3  The frenzy of the Never Trump movement becomes...  \n",
       "4  Lionsgate has acquired the U S distribution ri...  "
      ]
     },
     "execution_count": 17,
     "metadata": {},
     "output_type": "execute_result"
    }
   ],
   "source": [
    "df.head()"
   ]
  },
  {
   "cell_type": "markdown",
   "id": "32f5ec5b",
   "metadata": {},
   "source": [
    "# Creating the Model"
   ]
  },
  {
   "cell_type": "code",
   "execution_count": 18,
   "id": "ea1a0653",
   "metadata": {},
   "outputs": [],
   "source": [
    "from sklearn.model_selection import train_test_split\n",
    "\n",
    "X_train, X_test, y_train, y_test = train_test_split(df[\"text_processed\"], df[\"Bias\"], test_size = 0.10, random_state = 19) "
   ]
  },
  {
   "cell_type": "code",
   "execution_count": 19,
   "id": "c9c3c422",
   "metadata": {},
   "outputs": [],
   "source": [
    "from sklearn.feature_extraction.text import CountVectorizer\n",
    "from sklearn.feature_extraction.text import TfidfTransformer\n",
    "\n",
    "vectorizer = CountVectorizer()\n",
    "X_train_counts = vectorizer.fit_transform(X_train)\n",
    "X_test_counts = vectorizer.transform(X_test)\n",
    "\n",
    "# Convert token counts to normalized term frequency (tf) values\n",
    "tf_transformer = TfidfTransformer(use_idf=False).fit(X_train_counts)\n",
    "X_train_tf = tf_transformer.transform(X_train_counts)\n",
    "X_test_tf = tf_transformer.transform(X_test_counts)"
   ]
  },
  {
   "cell_type": "code",
   "execution_count": null,
   "id": "6de4ee4a",
   "metadata": {},
   "outputs": [],
   "source": []
  },
  {
   "cell_type": "code",
   "execution_count": 20,
   "id": "39d11ab7",
   "metadata": {},
   "outputs": [
    {
     "name": "stdout",
     "output_type": "stream",
     "text": [
      "(15674,)\n"
     ]
    }
   ],
   "source": [
    "print(X_train.shape)"
   ]
  },
  {
   "cell_type": "code",
   "execution_count": 21,
   "id": "6b67cee5",
   "metadata": {},
   "outputs": [
    {
     "name": "stdout",
     "output_type": "stream",
     "text": [
      "(15674,)\n"
     ]
    }
   ],
   "source": [
    "print(y_train.shape)"
   ]
  },
  {
   "cell_type": "code",
   "execution_count": 22,
   "id": "c2686bc3",
   "metadata": {},
   "outputs": [
    {
     "name": "stdout",
     "output_type": "stream",
     "text": [
      "(1742,)\n",
      "(1742,)\n"
     ]
    }
   ],
   "source": [
    "print(X_test.shape)\n",
    "print(y_test.shape)"
   ]
  },
  {
   "cell_type": "code",
   "execution_count": 23,
   "id": "fce97692",
   "metadata": {},
   "outputs": [
    {
     "data": {
      "text/html": [
       "<style>#sk-container-id-1 {color: black;background-color: white;}#sk-container-id-1 pre{padding: 0;}#sk-container-id-1 div.sk-toggleable {background-color: white;}#sk-container-id-1 label.sk-toggleable__label {cursor: pointer;display: block;width: 100%;margin-bottom: 0;padding: 0.3em;box-sizing: border-box;text-align: center;}#sk-container-id-1 label.sk-toggleable__label-arrow:before {content: \"▸\";float: left;margin-right: 0.25em;color: #696969;}#sk-container-id-1 label.sk-toggleable__label-arrow:hover:before {color: black;}#sk-container-id-1 div.sk-estimator:hover label.sk-toggleable__label-arrow:before {color: black;}#sk-container-id-1 div.sk-toggleable__content {max-height: 0;max-width: 0;overflow: hidden;text-align: left;background-color: #f0f8ff;}#sk-container-id-1 div.sk-toggleable__content pre {margin: 0.2em;color: black;border-radius: 0.25em;background-color: #f0f8ff;}#sk-container-id-1 input.sk-toggleable__control:checked~div.sk-toggleable__content {max-height: 200px;max-width: 100%;overflow: auto;}#sk-container-id-1 input.sk-toggleable__control:checked~label.sk-toggleable__label-arrow:before {content: \"▾\";}#sk-container-id-1 div.sk-estimator input.sk-toggleable__control:checked~label.sk-toggleable__label {background-color: #d4ebff;}#sk-container-id-1 div.sk-label input.sk-toggleable__control:checked~label.sk-toggleable__label {background-color: #d4ebff;}#sk-container-id-1 input.sk-hidden--visually {border: 0;clip: rect(1px 1px 1px 1px);clip: rect(1px, 1px, 1px, 1px);height: 1px;margin: -1px;overflow: hidden;padding: 0;position: absolute;width: 1px;}#sk-container-id-1 div.sk-estimator {font-family: monospace;background-color: #f0f8ff;border: 1px dotted black;border-radius: 0.25em;box-sizing: border-box;margin-bottom: 0.5em;}#sk-container-id-1 div.sk-estimator:hover {background-color: #d4ebff;}#sk-container-id-1 div.sk-parallel-item::after {content: \"\";width: 100%;border-bottom: 1px solid gray;flex-grow: 1;}#sk-container-id-1 div.sk-label:hover label.sk-toggleable__label {background-color: #d4ebff;}#sk-container-id-1 div.sk-serial::before {content: \"\";position: absolute;border-left: 1px solid gray;box-sizing: border-box;top: 0;bottom: 0;left: 50%;z-index: 0;}#sk-container-id-1 div.sk-serial {display: flex;flex-direction: column;align-items: center;background-color: white;padding-right: 0.2em;padding-left: 0.2em;position: relative;}#sk-container-id-1 div.sk-item {position: relative;z-index: 1;}#sk-container-id-1 div.sk-parallel {display: flex;align-items: stretch;justify-content: center;background-color: white;position: relative;}#sk-container-id-1 div.sk-item::before, #sk-container-id-1 div.sk-parallel-item::before {content: \"\";position: absolute;border-left: 1px solid gray;box-sizing: border-box;top: 0;bottom: 0;left: 50%;z-index: -1;}#sk-container-id-1 div.sk-parallel-item {display: flex;flex-direction: column;z-index: 1;position: relative;background-color: white;}#sk-container-id-1 div.sk-parallel-item:first-child::after {align-self: flex-end;width: 50%;}#sk-container-id-1 div.sk-parallel-item:last-child::after {align-self: flex-start;width: 50%;}#sk-container-id-1 div.sk-parallel-item:only-child::after {width: 0;}#sk-container-id-1 div.sk-dashed-wrapped {border: 1px dashed gray;margin: 0 0.4em 0.5em 0.4em;box-sizing: border-box;padding-bottom: 0.4em;background-color: white;}#sk-container-id-1 div.sk-label label {font-family: monospace;font-weight: bold;display: inline-block;line-height: 1.2em;}#sk-container-id-1 div.sk-label-container {text-align: center;}#sk-container-id-1 div.sk-container {/* jupyter's `normalize.less` sets `[hidden] { display: none; }` but bootstrap.min.css set `[hidden] { display: none !important; }` so we also need the `!important` here to be able to override the default hidden behavior on the sphinx rendered scikit-learn.org. See: https://github.com/scikit-learn/scikit-learn/issues/21755 */display: inline-block !important;position: relative;}#sk-container-id-1 div.sk-text-repr-fallback {display: none;}</style><div id=\"sk-container-id-1\" class=\"sk-top-container\"><div class=\"sk-text-repr-fallback\"><pre>RandomForestClassifier()</pre><b>In a Jupyter environment, please rerun this cell to show the HTML representation or trust the notebook. <br />On GitHub, the HTML representation is unable to render, please try loading this page with nbviewer.org.</b></div><div class=\"sk-container\" hidden><div class=\"sk-item\"><div class=\"sk-estimator sk-toggleable\"><input class=\"sk-toggleable__control sk-hidden--visually\" id=\"sk-estimator-id-1\" type=\"checkbox\" checked><label for=\"sk-estimator-id-1\" class=\"sk-toggleable__label sk-toggleable__label-arrow\">RandomForestClassifier</label><div class=\"sk-toggleable__content\"><pre>RandomForestClassifier()</pre></div></div></div></div></div>"
      ],
      "text/plain": [
       "RandomForestClassifier()"
      ]
     },
     "execution_count": 23,
     "metadata": {},
     "output_type": "execute_result"
    }
   ],
   "source": [
    "from sklearn.ensemble import RandomForestClassifier\n",
    "model = RandomForestClassifier()\n",
    "model.fit(X_train_tf, y_train)"
   ]
  },
  {
   "cell_type": "code",
   "execution_count": null,
   "id": "7d5cbaec",
   "metadata": {},
   "outputs": [],
   "source": []
  },
  {
   "cell_type": "markdown",
   "id": "b056af16",
   "metadata": {},
   "source": [
    "# Testing\n"
   ]
  },
  {
   "cell_type": "code",
   "execution_count": 24,
   "id": "f9116a36",
   "metadata": {},
   "outputs": [
    {
     "name": "stdout",
     "output_type": "stream",
     "text": [
      "Accuracy: 0.7738231917336394\n"
     ]
    }
   ],
   "source": [
    "accuracy = model.score(X_test_tf, y_test)\n",
    "print(\"Accuracy:\", accuracy)"
   ]
  },
  {
   "cell_type": "code",
   "execution_count": 25,
   "id": "dd033821",
   "metadata": {},
   "outputs": [
    {
     "name": "stdout",
     "output_type": "stream",
     "text": [
      "center-left\n"
     ]
    }
   ],
   "source": [
    "text = \"In recent years, there has been an alarming increase in the number of vaccinations being administered to children and adults alike. Despite claims by the medical establishment that vaccines are safe and effective, there is mounting evidence to suggest that they may actually be quite dangerous.First and foremost, vaccines have been linked to a number of serious health problems, including autism, autoimmune disorders, and even death. While the medical establishment may downplay these risks, there is no denying the fact that vaccines have been responsible for countless tragedies.Furthermore, it is important to note that vaccines are not always effective. In fact, many people who receive vaccines still end up contracting the diseases they were supposed to be protected against.\"\n",
    "def predict_p(input_text):\n",
    "\n",
    "    # Preprocess the input text\n",
    "    processed_text = preprocess(input_text)\n",
    "\n",
    "    processed_text_counts = vectorizer.transform([processed_text])\n",
    "\n",
    "    # Convert token counts to normalized term frequency (tf) values\n",
    "    tf_transformer = TfidfTransformer(use_idf=False).fit(processed_text_counts)\n",
    "    processed_text_tf = tf_transformer.transform(processed_text_counts)\n",
    "\n",
    "    # Use the loaded model to make predictions on the preprocessed input text\n",
    "    prediction = model.predict(processed_text_tf)[0]\n",
    "\n",
    "    return prediction\n",
    "\n",
    "print(predict_p(text))"
   ]
  },
  {
   "cell_type": "code",
   "execution_count": 26,
   "id": "bdd7d2bc",
   "metadata": {},
   "outputs": [
    {
     "name": "stdout",
     "output_type": "stream",
     "text": [
      "center-left\n"
     ]
    }
   ],
   "source": [
    "print(predict_p(\"In recent years, there has been an alarming increase in the number of vaccinations being administered to children and adults alike. Despite claims by the medical establishment that vaccines are safe and effective, there is mounting evidence to suggest that they may actually be quite dangerous.First and foremost, vaccines have been linked to a number of serious health problems, including autism, autoimmune disorders, and even death. While the medical establishment may downplay these risks, there is no denying the fact that vaccines have been responsible for countless tragedies.\"))"
   ]
  },
  {
   "cell_type": "code",
   "execution_count": 27,
   "id": "f7cbc7ac",
   "metadata": {},
   "outputs": [
    {
     "name": "stdout",
     "output_type": "stream",
     "text": [
      "center-left\n"
     ]
    }
   ],
   "source": [
    "print(predict_p(\"The United States is “cautiously optimistic” that there will be an agreement to allow humanitarian aid to get into Sudan, a top State Department official said Wednesday amid ongoing talks between the warring Sudanese military factions.However, the US is also prepared to apply economic pressure to the parties “depending upon how the talks go,” and “there are” sanctions ready to go, Undersecretary of State for Political Affairs Victoria Nuland said at a Senate Foreign Relations Committee hearing Wednesday.Intense fighting between the Rapid Support Forces (RSF) and the Sudanese Armed Forces (SAF) has left hundreds dead and thousands injured, caused tens of thousands to flee their homes and has left the country on the brink of a civil war and a massive humanitarian catastrophe. Several ceasefires between the parties have not yielded an end to the fighting.Weeks after the fighting broke out, the leaders of the RSF and SAF agreed to send representatives to the Saudi city of Jeddah for “pre-negotiation talks” mediated by the US and Saudi Arabia.“Our goal for these talks has been very narrowly focused. First securing agreement on a declaration of humanitarian principles and then getting a ceasefire that is long enough to facilitate the steady delivery of badly needed services,” Nuland said.Nuland told lawmakers she had spoken with the US negotiators, led by US Ambassador to Sudan John Godfrey and Assistant Secretary of State for African Affairs Molly Phee, and described them as “cautiously optimistic” that the initial stage of talks would be successful.“We can’t get anything done in Sudan, we can’t even restore a process in which civilians are participating until the violence stops and we get some aid in,” she said.“We’re, as I said, cautiously optimistic that this first installment on getting humanitarian support in will allow us to get going in coming days,” Nuland said. “Then the ceasefire has to be more durable.”Last week, President Joe Biden signed a new executive order authorizing sanctions on those “responsible for threatening the peace, security, and stability of Sudan; undermining Sudan’s democratic transition; using violence against civilians; or committing serious human rights abuses.\"))"
   ]
  },
  {
   "cell_type": "code",
   "execution_count": 31,
   "id": "a35f0fbf",
   "metadata": {},
   "outputs": [
    {
     "name": "stdout",
     "output_type": "stream",
     "text": [
      "right\n"
     ]
    }
   ],
   "source": [
    "print(predict_p(\"The Black Lives Matter movement started a massive wave of Americans uniting to call for defunding the police and eradicating white supremacy to make positive changes for Black Americans. But experts reflecting on the movement’s scorecard in 2022 say Black America hasn’t benefited.I would argue that, on balance, these communities are worse off because by [BLM] overemphasizing the role of police, they've changed police behavior for the worse,the Manhattan Institute’s Jason Riley told Fox News Digital in a phone interview. In other words, police do become more cautious. They're less likely to get out of their cars and engage with people in the community. And to the extent that police are less proactive, the criminals have the run of the place.\"))"
   ]
  },
  {
   "cell_type": "code",
   "execution_count": null,
   "id": "074e7fbb",
   "metadata": {},
   "outputs": [],
   "source": [
    "print(predict_p(\"House Republicans on Wednesday advanced legislation to kill President Biden’s attempt to cancel student loan debt for tens of millions of borrowers, a controversial move that the government has said would cost it more than $400 billion.The House Education and the Workforce Committee passed a resolution aimed at terminating Biden’s policy, which was supported by every Republican on the committee and opposed by every Democrat. Committee passage means the resolution, from Rep. Bob Good, R-Va., now has a chance to get a vote on the House floor.I am pleased to lead the House effort to overturn President Biden’s student loan transfer scheme that would burden the wallets of hardworking American taxpayers to the tune of hundreds of billions of dollars, Good told Fox News Digital. His plan to force American citizens to pay off the debts of others is unfair, unethical, unconstitutional and unlawful.\"))"
   ]
  },
  {
   "cell_type": "markdown",
   "id": "be6bbb1e",
   "metadata": {},
   "source": [
    "## Downloading the Model"
   ]
  },
  {
   "cell_type": "code",
   "execution_count": null,
   "id": "60ebc9e4",
   "metadata": {},
   "outputs": [],
   "source": [
    "import joblib\n",
    "joblib.dump(model, 'random_forest_model.joblib')"
   ]
  },
  {
   "cell_type": "code",
   "execution_count": null,
   "id": "7aec6ce2",
   "metadata": {},
   "outputs": [],
   "source": [
    "joblib.dump(vectorizer, 'vectorizer.joblib')"
   ]
  },
  {
   "cell_type": "code",
   "execution_count": null,
   "id": "460ae475",
   "metadata": {},
   "outputs": [],
   "source": []
  }
 ],
 "metadata": {
  "kernelspec": {
   "display_name": "Python 3 (ipykernel)",
   "language": "python",
   "name": "python3"
  },
  "language_info": {
   "codemirror_mode": {
    "name": "ipython",
    "version": 3
   },
   "file_extension": ".py",
   "mimetype": "text/x-python",
   "name": "python",
   "nbconvert_exporter": "python",
   "pygments_lexer": "ipython3",
   "version": "3.10.9"
  }
 },
 "nbformat": 4,
 "nbformat_minor": 5
}
